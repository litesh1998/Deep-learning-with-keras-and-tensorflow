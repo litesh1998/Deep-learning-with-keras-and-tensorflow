{
 "metadata": {
  "language_info": {
   "codemirror_mode": {
    "name": "ipython",
    "version": 3
   },
   "file_extension": ".py",
   "mimetype": "text/x-python",
   "name": "python",
   "nbconvert_exporter": "python",
   "pygments_lexer": "ipython3",
   "version": "3.8.4-final"
  },
  "orig_nbformat": 2,
  "kernelspec": {
   "name": "python38464bitenvvenv217cb09ade164ce09a25ad4f830fea29",
   "display_name": "Python 3.8.4 64-bit ('env': venv)"
  }
 },
 "nbformat": 4,
 "nbformat_minor": 2,
 "cells": [
  {
   "cell_type": "code",
   "execution_count": 1,
   "metadata": {},
   "outputs": [],
   "source": [
    "import tensorflow as tf\n",
    "import numpy as np"
   ]
  },
  {
   "cell_type": "code",
   "execution_count": 2,
   "metadata": {
    "tags": []
   },
   "outputs": [
    {
     "output_type": "error",
     "ename": "NameError",
     "evalue": "name 'tensorflow' is not defined",
     "traceback": [
      "\u001b[1;31m---------------------------------------------------------------------------\u001b[0m",
      "\u001b[1;31mNameError\u001b[0m                                 Traceback (most recent call last)",
      "\u001b[1;32m<ipython-input-2-8e78df944b90>\u001b[0m in \u001b[0;36m<module>\u001b[1;34m\u001b[0m\n\u001b[1;32m----> 1\u001b[1;33m \u001b[0mprint\u001b[0m\u001b[1;33m(\u001b[0m\u001b[0mtensorflow\u001b[0m\u001b[1;33m.\u001b[0m\u001b[0m__version__\u001b[0m\u001b[1;33m)\u001b[0m\u001b[1;33m\u001b[0m\u001b[1;33m\u001b[0m\u001b[0m\n\u001b[0m",
      "\u001b[1;31mNameError\u001b[0m: name 'tensorflow' is not defined"
     ]
    }
   ],
   "source": [
    "print(tf.__version__)"
   ]
  },
  {
   "cell_type": "code",
   "execution_count": 3,
   "metadata": {
    "tags": []
   },
   "outputs": [],
   "source": [
    "(x_train, y_train), (x_test, y_test)=  tf.keras.datasets.mnist.load_data()"
   ]
  },
  {
   "cell_type": "code",
   "execution_count": 4,
   "metadata": {},
   "outputs": [],
   "source": [
    "num_lables=len(np.unique(y_train))\n",
    "y_train=tf.keras.utils.to_categorical(y_train)\n",
    "y_test=tf.keras.utils.to_categorical(y_test)"
   ]
  },
  {
   "cell_type": "code",
   "execution_count": 5,
   "metadata": {},
   "outputs": [
    {
     "output_type": "execute_result",
     "data": {
      "text/plain": "'d:\\\\computer programs\\\\python\\\\Deep-learning-with-keras-and-tensorflow\\\\Function API'"
     },
     "metadata": {},
     "execution_count": 5
    }
   ],
   "source": [
    "import os\n",
    "os.getcwd()"
   ]
  },
  {
   "cell_type": "code",
   "execution_count": 6,
   "metadata": {},
   "outputs": [],
   "source": [
    "image_size=x_train.shape[1]\n",
    "x_train = np.reshape(x_train,[-1, image_size, image_size, 1])\n",
    "x_test = np.reshape(x_test,[-1, image_size, image_size, 1])\n",
    "x_train = x_train.astype('float32') / 255\n",
    "x_test = x_test.astype('float32') / 255"
   ]
  },
  {
   "cell_type": "code",
   "execution_count": 7,
   "metadata": {},
   "outputs": [],
   "source": [
    "input_shape = (image_size, image_size, 1)\n",
    "batch_size = 32\n",
    "kernel_size = 3\n",
    "dropout = 0.4\n",
    "n_filters = 32"
   ]
  },
  {
   "cell_type": "code",
   "execution_count": 8,
   "metadata": {},
   "outputs": [],
   "source": [
    "left_inputs = tf.keras.layers.Input(shape=input_shape)\n",
    "filters=n_filters\n",
    "x = left_inputs\n",
    "for i in range(3):\n",
    "    x = tf.keras.layers.Conv2D(filters=filters,\n",
    "    kernel_size=kernel_size,\n",
    "    padding='same',\n",
    "    activation='relu')(x)\n",
    "    x = tf.keras.layers.Dropout(dropout)(x)\n",
    "    x = tf.keras.layers.MaxPooling2D()(x)\n",
    "    filters *= 2\n"
   ]
  },
  {
   "cell_type": "code",
   "execution_count": 9,
   "metadata": {},
   "outputs": [],
   "source": [
    "right_inputs = tf.keras.layers.Input(shape=input_shape)\n",
    "filters=n_filters\n",
    "y = left_inputs\n",
    "for i in range(3):\n",
    "    y = tf.keras.layers.Conv2D(filters=filters,\n",
    "    kernel_size=kernel_size,\n",
    "    padding='same',\n",
    "    activation='relu',\n",
    "    dilation_rate=2)(y)\n",
    "    y = tf.keras.layers.Dropout(dropout)(y)\n",
    "    y = tf.keras.layers.MaxPooling2D()(y)\n",
    "    filters *= 2"
   ]
  },
  {
   "cell_type": "code",
   "execution_count": 10,
   "metadata": {},
   "outputs": [],
   "source": [
    "y=tf.keras.layers.concatenate([x, y])\n",
    "y=tf.keras.layers.Flatten()(y)\n",
    "y=tf.keras.layers.Dropout(dropout)(y)\n",
    "output=tf.keras.layers.Dense(num_lables, activation='softmax')(y)\n",
    "model=tf.keras.models.Model([left_inputs, right_inputs], output)\n",
    "\n"
   ]
  },
  {
   "cell_type": "code",
   "execution_count": 19,
   "metadata": {},
   "outputs": [],
   "source": [
    "model.compile(optimizer='adam', loss='categorical_crossentropy', metrics=['accuracy'])"
   ]
  },
  {
   "cell_type": "code",
   "execution_count": 15,
   "metadata": {
    "tags": []
   },
   "outputs": [
    {
     "output_type": "stream",
     "name": "stdout",
     "text": "Model: \"functional_1\"\n__________________________________________________________________________________________________\nLayer (type)                    Output Shape         Param #     Connected to                     \n==================================================================================================\ninput_1 (InputLayer)            [(None, 28, 28, 1)]  0                                            \n__________________________________________________________________________________________________\nconv2d (Conv2D)                 (None, 28, 28, 32)   320         input_1[0][0]                    \n__________________________________________________________________________________________________\nconv2d_3 (Conv2D)               (None, 28, 28, 32)   320         input_1[0][0]                    \n__________________________________________________________________________________________________\ndropout (Dropout)               (None, 28, 28, 32)   0           conv2d[0][0]                     \n__________________________________________________________________________________________________\ndropout_3 (Dropout)             (None, 28, 28, 32)   0           conv2d_3[0][0]                   \n__________________________________________________________________________________________________\nmax_pooling2d (MaxPooling2D)    (None, 14, 14, 32)   0           dropout[0][0]                    \n__________________________________________________________________________________________________\nmax_pooling2d_3 (MaxPooling2D)  (None, 14, 14, 32)   0           dropout_3[0][0]                  \n__________________________________________________________________________________________________\nconv2d_1 (Conv2D)               (None, 14, 14, 64)   18496       max_pooling2d[0][0]              \n__________________________________________________________________________________________________\nconv2d_4 (Conv2D)               (None, 14, 14, 64)   18496       max_pooling2d_3[0][0]            \n__________________________________________________________________________________________________\ndropout_1 (Dropout)             (None, 14, 14, 64)   0           conv2d_1[0][0]                   \n__________________________________________________________________________________________________\ndropout_4 (Dropout)             (None, 14, 14, 64)   0           conv2d_4[0][0]                   \n__________________________________________________________________________________________________\nmax_pooling2d_1 (MaxPooling2D)  (None, 7, 7, 64)     0           dropout_1[0][0]                  \n__________________________________________________________________________________________________\nmax_pooling2d_4 (MaxPooling2D)  (None, 7, 7, 64)     0           dropout_4[0][0]                  \n__________________________________________________________________________________________________\nconv2d_2 (Conv2D)               (None, 7, 7, 128)    73856       max_pooling2d_1[0][0]            \n__________________________________________________________________________________________________\nconv2d_5 (Conv2D)               (None, 7, 7, 128)    73856       max_pooling2d_4[0][0]            \n__________________________________________________________________________________________________\ndropout_2 (Dropout)             (None, 7, 7, 128)    0           conv2d_2[0][0]                   \n__________________________________________________________________________________________________\ndropout_5 (Dropout)             (None, 7, 7, 128)    0           conv2d_5[0][0]                   \n__________________________________________________________________________________________________\nmax_pooling2d_2 (MaxPooling2D)  (None, 3, 3, 128)    0           dropout_2[0][0]                  \n__________________________________________________________________________________________________\nmax_pooling2d_5 (MaxPooling2D)  (None, 3, 3, 128)    0           dropout_5[0][0]                  \n__________________________________________________________________________________________________\nconcatenate (Concatenate)       (None, 3, 3, 256)    0           max_pooling2d_2[0][0]            \n                                                                 max_pooling2d_5[0][0]            \n__________________________________________________________________________________________________\nflatten (Flatten)               (None, 2304)         0           concatenate[0][0]                \n__________________________________________________________________________________________________\ndropout_6 (Dropout)             (None, 2304)         0           flatten[0][0]                    \n__________________________________________________________________________________________________\ninput_2 (InputLayer)            [(None, 28, 28, 1)]  0                                            \n__________________________________________________________________________________________________\ndense (Dense)                   (None, 10)           23050       dropout_6[0][0]                  \n==================================================================================================\nTotal params: 208,394\nTrainable params: 208,394\nNon-trainable params: 0\n__________________________________________________________________________________________________\n"
    }
   ],
   "source": [
    "model.summary()\n"
   ]
  },
  {
   "cell_type": "code",
   "execution_count": 17,
   "metadata": {
    "tags": []
   },
   "outputs": [
    {
     "output_type": "stream",
     "name": "stdout",
     "text": "('Failed to import pydot. You must `pip install pydot` and install graphviz (https://graphviz.gitlab.io/download/), ', 'for `pydotprint` to work.')\n"
    }
   ],
   "source": [
    "tf.keras.utils.plot_model(model, to_file='Y-cnn-model.png', show_shapes=True)"
   ]
  },
  {
   "cell_type": "code",
   "execution_count": 20,
   "metadata": {
    "tags": []
   },
   "outputs": [
    {
     "output_type": "stream",
     "name": "stdout",
     "text": "Epoch 1/20\n1875/1875 [==============================] - 17s 9ms/step - loss: 0.1766 - accuracy: 0.9458 - val_loss: 0.1528 - val_accuracy: 0.9876\nEpoch 2/20\n1875/1875 [==============================] - 17s 9ms/step - loss: 0.0637 - accuracy: 0.9803 - val_loss: 0.1260 - val_accuracy: 0.9894\nEpoch 3/20\n1875/1875 [==============================] - 19s 10ms/step - loss: 0.0530 - accuracy: 0.9835 - val_loss: 0.0991 - val_accuracy: 0.9931\nEpoch 4/20\n1875/1875 [==============================] - 19s 10ms/step - loss: 0.0471 - accuracy: 0.9850 - val_loss: 0.0580 - val_accuracy: 0.9920\nEpoch 5/20\n1875/1875 [==============================] - 31s 16ms/step - loss: 0.0423 - accuracy: 0.9869 - val_loss: 0.0572 - val_accuracy: 0.9944\nEpoch 6/20\n1875/1875 [==============================] - 37s 20ms/step - loss: 0.0383 - accuracy: 0.9883 - val_loss: 0.0469 - val_accuracy: 0.9917\nEpoch 7/20\n1875/1875 [==============================] - 28s 15ms/step - loss: 0.0367 - accuracy: 0.9885 - val_loss: 0.0629 - val_accuracy: 0.9930\nEpoch 8/20\n1875/1875 [==============================] - 25s 13ms/step - loss: 0.0350 - accuracy: 0.9888 - val_loss: 0.0426 - val_accuracy: 0.9944\nEpoch 9/20\n1875/1875 [==============================] - 23s 12ms/step - loss: 0.0342 - accuracy: 0.9892 - val_loss: 0.0503 - val_accuracy: 0.9929\nEpoch 10/20\n1875/1875 [==============================] - 23s 12ms/step - loss: 0.0322 - accuracy: 0.9897 - val_loss: 0.0429 - val_accuracy: 0.9937\nEpoch 11/20\n1875/1875 [==============================] - 22s 12ms/step - loss: 0.0326 - accuracy: 0.9898 - val_loss: 0.0394 - val_accuracy: 0.9943\nEpoch 12/20\n1875/1875 [==============================] - 23s 12ms/step - loss: 0.0306 - accuracy: 0.9908 - val_loss: 0.0466 - val_accuracy: 0.9943\nEpoch 13/20\n1875/1875 [==============================] - 25s 13ms/step - loss: 0.0311 - accuracy: 0.9905 - val_loss: 0.0338 - val_accuracy: 0.9942\nEpoch 14/20\n1875/1875 [==============================] - 26s 14ms/step - loss: 0.0326 - accuracy: 0.9900 - val_loss: 0.0417 - val_accuracy: 0.9912\nEpoch 15/20\n1875/1875 [==============================] - 23s 12ms/step - loss: 0.0281 - accuracy: 0.9912 - val_loss: 0.0287 - val_accuracy: 0.9952\nEpoch 16/20\n1875/1875 [==============================] - 22s 12ms/step - loss: 0.0283 - accuracy: 0.9916 - val_loss: 0.0315 - val_accuracy: 0.9939\nEpoch 17/20\n1875/1875 [==============================] - 21s 11ms/step - loss: 0.0329 - accuracy: 0.9904 - val_loss: 0.0390 - val_accuracy: 0.9936\nEpoch 18/20\n1875/1875 [==============================] - 22s 12ms/step - loss: 0.0292 - accuracy: 0.9908 - val_loss: 0.0434 - val_accuracy: 0.9936\nEpoch 19/20\n1875/1875 [==============================] - 21s 11ms/step - loss: 0.0272 - accuracy: 0.9913 - val_loss: 0.0385 - val_accuracy: 0.9926\nEpoch 20/20\n1875/1875 [==============================] - 21s 11ms/step - loss: 0.0277 - accuracy: 0.9913 - val_loss: 0.0334 - val_accuracy: 0.9922\n"
    },
    {
     "output_type": "execute_result",
     "data": {
      "text/plain": "<tensorflow.python.keras.callbacks.History at 0x1962fdee790>"
     },
     "metadata": {},
     "execution_count": 20
    }
   ],
   "source": [
    "model.fit([x_train, x_train],\n",
    "y_train,\n",
    "validation_data=([x_test, x_test], y_test),\n",
    "epochs=20,\n",
    "batch_size=batch_size)"
   ]
  },
  {
   "cell_type": "code",
   "execution_count": 21,
   "metadata": {
    "tags": []
   },
   "outputs": [
    {
     "output_type": "stream",
     "name": "stdout",
     "text": "313/313 [==============================] - 2s 5ms/step - loss: 0.0334 - accuracy: 0.9922\n"
    }
   ],
   "source": [
    "score = model.evaluate([x_test, x_test],\n",
    "y_test,\n",
    "batch_size=batch_size,\n",
    "verbose=1)"
   ]
  },
  {
   "cell_type": "code",
   "execution_count": null,
   "metadata": {},
   "outputs": [],
   "source": []
  }
 ]
}